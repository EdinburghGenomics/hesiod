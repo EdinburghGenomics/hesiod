{
 "cells": [
  {
   "cell_type": "markdown",
   "metadata": {},
   "source": [
    "# For the Lohse dataset at\n",
    "http://web1.genepool.private/runinfo/hesiod_reports/20191107_EGS1_11921LK0002/all_reports/report.3cells.pan.html"
   ]
  },
  {
   "cell_type": "code",
   "execution_count": null,
   "metadata": {},
   "outputs": [],
   "source": [
    "%matplotlib inline\n",
    "\n",
    "import math\n",
    "\n",
    "import seaborn as sns\n",
    "import pandas as pd\n",
    "import numpy as np\n",
    "import matplotlib.pyplot as plt\n",
    "\n",
    "# We can load the datasets from the .pkl files. Also use a convenience function from\n",
    "# plot_lambda_identity_by_time.py. If this fails, check the gvfs is mounted.\n",
    "from plot_lambda_identity_by_time import gen_bins\n",
    "\n",
    "# Give me girth!\n",
    "from IPython.core.display import display, HTML\n",
    "display(HTML(\"<style>.container { width:98% !important; }</style>\"))\n",
    "sns.set(rc={'figure.figsize':(16.0,8.0)})\n",
    "\n",
    "# And a decent palette\n",
    "pal = sns.cubehelix_palette(12, rot=-.5, dark=.3)\n"
   ]
  },
  {
   "cell_type": "code",
   "execution_count": null,
   "metadata": {},
   "outputs": [],
   "source": [
    "# Read the pickle file made by plot_lambda_identity_by_time.py\n",
    "df = pd.read_pickle(\"gseg_link/eb80ac83.pkl\")\n",
    "\n",
    "# Add bins as in the script (since these don't get pickled)\n",
    "max_time = math.ceil(df['StartTime'].max())\n",
    "bin_size, bin_labels = gen_bins(1800, 16, max_time)\n",
    "\n",
    "cut_range = list(range(0, max_time + bin_size, bin_size))[:len(bin_labels) + 1]\n",
    "df['ReadTime'] = pd.cut(df['StartTime'], cut_range, right=False, labels=bin_labels)\n",
    "\n",
    "# Also add this which will be useful later\n",
    "df['UnalignedLength'] = df['ReadLength'] - df['AlignmentLength']\n",
    "\n",
    "df.head()\n"
   ]
  },
  {
   "cell_type": "code",
   "execution_count": null,
   "metadata": {},
   "outputs": [],
   "source": [
    "# Basic plot of Accuracy over time\n",
    "# Remember that Accuracy is AS / ReadLength but AlignmentAccuracy is AS / AlignementLength\n",
    "\n",
    "sns.boxplot(data=df, x='ReadTime', y='Accuracy', palette=pal)"
   ]
  },
  {
   "cell_type": "code",
   "execution_count": null,
   "metadata": {},
   "outputs": [],
   "source": [
    "sns.boxplot(data=df, x='ReadTime', y='AlignmentScore', fliersize=2, palette=pal)\n",
    "sns.swarmplot(data=df.sample(n=2000), x='ReadTime', y='AlignmentScore')"
   ]
  },
  {
   "cell_type": "code",
   "execution_count": null,
   "metadata": {},
   "outputs": [],
   "source": [
    "# Those funny outliers at the top - a longer section of lambda?! Need to pop them in an alignment viewer.\n",
    "df[df['AlignmentScore'] > 4000]"
   ]
  },
  {
   "cell_type": "code",
   "execution_count": null,
   "metadata": {},
   "outputs": [],
   "source": [
    "# Those reads at the end when most pores were blocked\n",
    "df[df.ReadTime == '12:00']"
   ]
  },
  {
   "cell_type": "markdown",
   "metadata": {},
   "source": [
    "## Now we focus on just the reads at time point 01:00"
   ]
  },
  {
   "cell_type": "code",
   "execution_count": null,
   "metadata": {},
   "outputs": [],
   "source": [
    "df_1 = df[df.ReadTime == '01:00']\n",
    "df_1_short = df_1[df_1.ReadLength < 1000]\n",
    "df_1_short.head()"
   ]
  },
  {
   "cell_type": "code",
   "execution_count": null,
   "metadata": {},
   "outputs": [],
   "source": [
    "# Add a categorical hue column to the frame. We'll use this in the scatter plots.\n",
    "# I got these numbers by eyeballing the graphs not from any real source.\n",
    "\n",
    "df['my_hue'] = np.select([df.UnalignedLength > 250, \n",
    "                                (3340 < df.ReadLength) & (df.ReadLength < 3620)],\n",
    "                           ['lowmatch',\n",
    "                                'good'],\n",
    "                                   default=\"short\")\n",
    "\n",
    "df_1 = df[df.ReadTime == '01:00']\n",
    "df_1.my_hue.value_counts().plot(kind=\"pie\", autopct=lambda v: \"{:.0f}\".format(v/100 * len(df)))"
   ]
  },
  {
   "cell_type": "code",
   "execution_count": null,
   "metadata": {},
   "outputs": [],
   "source": [
    "sns.scatterplot(data=df_1,\n",
    "                x='ReadLength', y=\"Accuracy\", hue=\"my_hue\")"
   ]
  },
  {
   "cell_type": "code",
   "execution_count": null,
   "metadata": {},
   "outputs": [],
   "source": [
    "sns.scatterplot(data=df_1,\n",
    "                x='ReadLength', y=\"AlignmentScore\", hue=\"my_hue\")"
   ]
  },
  {
   "cell_type": "markdown",
   "metadata": {},
   "source": [
    "### Question: What are those low accuracy reads?\n",
    "    1 - Non-spike-in reads misassigned to Lambda\n",
    "    2 - Chimeric reads with a lambda part and something else\n",
    "    3 - Just poor reads\n",
    "\n",
    "What if I calculate the alignment length in addition to the read length? Then I can also get AlignmentAccuracy, and I would predict:\n",
    "\n",
    "    1 - These should have a low AlignmentAccuracy and the AlignmentLength should be << ReadLength\n",
    "    2 - These should have a high AlignmentAccuracy and the AlignmentLength should be << ReadLength\n",
    "    3 - These should have a low AlignmentAccuracy and the AlignmentLength should be ~= ReadLength\n"
   ]
  },
  {
   "cell_type": "code",
   "execution_count": null,
   "metadata": {},
   "outputs": [],
   "source": [
    "# Almost the same but with AlignmentLength rather than alignmentscore. Much the same as above.\n",
    "# Now plot, with three categories.\n",
    "\n",
    "sns.scatterplot(data=df_1, x=\"ReadLength\", y=\"AlignmentLength\", hue=\"my_hue\")\n"
   ]
  },
  {
   "cell_type": "code",
   "execution_count": null,
   "metadata": {},
   "outputs": [],
   "source": [
    "# This reflect the straight line in the graph above\n",
    "\n",
    "sns.scatterplot(data= df_1, x=\"AlignmentLength\", y=\"AlignmentAccuracy\", hue=\"my_hue\")"
   ]
  },
  {
   "cell_type": "markdown",
   "metadata": {},
   "source": [
    "OK, what questions do we have.\n",
    "ReadLength vs. AligmnentLength shows that generally the whole read aligns but then we have a few things floating off the line and a long line at the top. My guess is that the top line is chimeric. Maybe the others are also chimeric but we have read part of Lambda plus part of whatever? Or I dunno.\n",
    "\n",
    "AlignmentLength vs AlignmentAccuracy has most things floating at the top. So no relationship between them.\n",
    "\n",
    "So now lets extract the outliers from the top graph. Stuff where the ReadLength - AlignmentLength > 10"
   ]
  },
  {
   "cell_type": "code",
   "execution_count": null,
   "metadata": {},
   "outputs": [],
   "source": [
    "# Now, let's look at reads with the typical length.\n",
    "df_1_inliers = df_1[df_1.my_hue == 'good']\n",
    "sns.scatterplot(data=df_1_inliers,\n",
    "                x='ReadLength', y=\"AlignmentLength\", hue=\"AlignmentAccuracy\")"
   ]
  },
  {
   "cell_type": "code",
   "execution_count": null,
   "metadata": {},
   "outputs": [],
   "source": [
    "# So for these, what's the typical under-alignment? This is almost the previous graph upside-down, but it means we can\n",
    "# read off how much is being trimmed in the BAM.\n",
    "\n",
    "sns.scatterplot(data=df_1_inliers,\n",
    "                x='ReadLength', y=\"UnalignedLength\", hue=\"my_hue\")\n",
    "df_1_inliers.head()"
   ]
  },
  {
   "cell_type": "code",
   "execution_count": null,
   "metadata": {},
   "outputs": [],
   "source": []
  }
 ],
 "metadata": {
  "kernelspec": {
   "display_name": "Python 3",
   "language": "python",
   "name": "python3"
  },
  "language_info": {
   "codemirror_mode": {
    "name": "ipython",
    "version": 3
   },
   "file_extension": ".py",
   "mimetype": "text/x-python",
   "name": "python",
   "nbconvert_exporter": "python",
   "pygments_lexer": "ipython3",
   "version": "3.7.3"
  }
 },
 "nbformat": 4,
 "nbformat_minor": 2
}
